{
 "cells": [
  {
   "cell_type": "code",
   "execution_count": 50,
   "metadata": {},
   "outputs": [],
   "source": [
    "import pandas as pd\n",
    "import numpy as np\n",
    "import matplotlib.pyplot as plt"
   ]
  },
  {
   "cell_type": "code",
   "execution_count": null,
   "metadata": {},
   "outputs": [],
   "source": [
    "Cambridge_data = pd.read_csv('Cambridge.csv')\n",
    "Cambridge_data\n",
    "pd.options.display.max_rows = None\n",
    "Cambridge_data"
   ]
  },
  {
   "cell_type": "code",
   "execution_count": 132,
   "metadata": {},
   "outputs": [
    {
     "name": "stdout",
     "output_type": "stream",
     "text": [
      "<class 'pandas.core.frame.DataFrame'>\n",
      "RangeIndex: 1287 entries, 0 to 1286\n",
      "Data columns (total 75 columns):\n",
      " #   Column                                        Non-Null Count  Dtype  \n",
      "---  ------                                        --------------  -----  \n",
      " 0   id                                            1287 non-null   int64  \n",
      " 1   listing_url                                   1287 non-null   object \n",
      " 2   scrape_id                                     1287 non-null   int64  \n",
      " 3   last_scraped                                  1287 non-null   object \n",
      " 4   source                                        1287 non-null   object \n",
      " 5   name                                          1287 non-null   object \n",
      " 6   description                                   1273 non-null   object \n",
      " 7   neighborhood_overview                         737 non-null    object \n",
      " 8   picture_url                                   1287 non-null   object \n",
      " 9   host_id                                       1287 non-null   int64  \n",
      " 10  host_url                                      1287 non-null   object \n",
      " 11  host_name                                     1287 non-null   object \n",
      " 12  host_since                                    1287 non-null   object \n",
      " 13  host_location                                 1036 non-null   object \n",
      " 14  host_about                                    805 non-null    object \n",
      " 15  host_response_time                            1166 non-null   object \n",
      " 16  host_response_rate                            1166 non-null   object \n",
      " 17  host_acceptance_rate                          1205 non-null   object \n",
      " 18  host_is_superhost                             1261 non-null   object \n",
      " 19  host_thumbnail_url                            1287 non-null   object \n",
      " 20  host_picture_url                              1287 non-null   object \n",
      " 21  host_neighbourhood                            1250 non-null   object \n",
      " 22  host_listings_count                           1287 non-null   int64  \n",
      " 23  host_total_listings_count                     1287 non-null   int64  \n",
      " 24  host_verifications                            1287 non-null   object \n",
      " 25  host_has_profile_pic                          1287 non-null   object \n",
      " 26  host_identity_verified                        1287 non-null   object \n",
      " 27  neighbourhood                                 737 non-null    object \n",
      " 28  neighbourhood_cleansed                        1287 non-null   object \n",
      " 29  neighbourhood_group_cleansed                  0 non-null      float64\n",
      " 30  latitude                                      1287 non-null   float64\n",
      " 31  longitude                                     1287 non-null   float64\n",
      " 32  property_type                                 1287 non-null   object \n",
      " 33  room_type                                     1287 non-null   object \n",
      " 34  accommodates                                  1287 non-null   int64  \n",
      " 35  bathrooms                                     945 non-null    float64\n",
      " 36  bathrooms_text                                1287 non-null   object \n",
      " 37  bedrooms                                      1219 non-null   float64\n",
      " 38  beds                                          941 non-null    float64\n",
      " 39  amenities                                     1287 non-null   object \n",
      " 40  price                                         945 non-null    object \n",
      " 41  minimum_nights                                1287 non-null   int64  \n",
      " 42  maximum_nights                                1287 non-null   int64  \n",
      " 43  minimum_minimum_nights                        1287 non-null   int64  \n",
      " 44  maximum_minimum_nights                        1287 non-null   int64  \n",
      " 45  minimum_maximum_nights                        1287 non-null   int64  \n",
      " 46  maximum_maximum_nights                        1287 non-null   int64  \n",
      " 47  minimum_nights_avg_ntm                        1287 non-null   float64\n",
      " 48  maximum_nights_avg_ntm                        1287 non-null   float64\n",
      " 49  calendar_updated                              0 non-null      float64\n",
      " 50  has_availability                              1259 non-null   object \n",
      " 51  availability_30                               1287 non-null   int64  \n",
      " 52  availability_60                               1287 non-null   int64  \n",
      " 53  availability_90                               1287 non-null   int64  \n",
      " 54  availability_365                              1287 non-null   int64  \n",
      " 55  calendar_last_scraped                         1287 non-null   object \n",
      " 56  number_of_reviews                             1287 non-null   int64  \n",
      " 57  number_of_reviews_ltm                         1287 non-null   int64  \n",
      " 58  number_of_reviews_l30d                        1287 non-null   int64  \n",
      " 59  first_review                                  970 non-null    object \n",
      " 60  last_review                                   970 non-null    object \n",
      " 61  review_scores_rating                          970 non-null    float64\n",
      " 62  review_scores_accuracy                        970 non-null    float64\n",
      " 63  review_scores_cleanliness                     970 non-null    float64\n",
      " 64  review_scores_checkin                         970 non-null    float64\n",
      " 65  review_scores_communication                   970 non-null    float64\n",
      " 66  review_scores_location                        970 non-null    float64\n",
      " 67  review_scores_value                           970 non-null    float64\n",
      " 68  license                                       490 non-null    object \n",
      " 69  instant_bookable                              1287 non-null   object \n",
      " 70  calculated_host_listings_count                1287 non-null   int64  \n",
      " 71  calculated_host_listings_count_entire_homes   1287 non-null   int64  \n",
      " 72  calculated_host_listings_count_private_rooms  1287 non-null   int64  \n",
      " 73  calculated_host_listings_count_shared_rooms   1287 non-null   int64  \n",
      " 74  reviews_per_month                             970 non-null    float64\n",
      "dtypes: float64(17), int64(23), object(35)\n",
      "memory usage: 754.2+ KB\n"
     ]
    }
   ],
   "source": [
    "Cambridge_data.info()"
   ]
  },
  {
   "cell_type": "code",
   "execution_count": 133,
   "metadata": {},
   "outputs": [],
   "source": [
    "dataframe = Cambridge_data"
   ]
  },
  {
   "cell_type": "code",
   "execution_count": 134,
   "metadata": {},
   "outputs": [],
   "source": [
    "def cuenta_valores_nulos(dataframe):\n",
    "    #Valores nulos por columna\n",
    "    valores_nulos_cols = dataframe.isnull().sum()\n",
    "    #Valores nulos por dataframe\n",
    "    valores_nulos_df = dataframe.isnull().sum().sum()\n",
    "\n",
    "    return(\"Valores nulos por columna\", valores_nulos_cols,\n",
    "           \"Valores nulos por dataframe\", valores_nulos_df)"
   ]
  },
  {
   "cell_type": "code",
   "execution_count": 135,
   "metadata": {},
   "outputs": [],
   "source": [
    "def sustitucion_mediana(dataframe):\n",
    "    #Separo columnas cuantitativas del dataframe\n",
    "    cuantitativas_con_nulos = dataframe.select_dtypes(include=['float64', 'int64', 'float', 'int'])\n",
    "    #Separo columnas cualitativas del dataframe\n",
    "    cualitativas = dataframe.select_dtypes(include=['object', 'datetime', 'category'])\n",
    "\n",
    "    #Sustituir valores nulos con promedio o media\n",
    "    cuantitativas = cuantitativas_con_nulos.fillna(round(cuantitativas_con_nulos.median(), 1))\n",
    "    #Unimos el dataframe cuantitativo limpio con el dataframe cualitativo\n",
    "    Datos_sin_nulos = pd.concat([cuantitativas, cualitativas], axis=1)\n",
    "\n",
    "    return(Datos_sin_nulos)"
   ]
  },
  {
   "cell_type": "code",
   "execution_count": 136,
   "metadata": {},
   "outputs": [],
   "source": [
    "def sustitucion_ffill(dataframe):\n",
    "    #Separo columnas cuantitativas del dataframe\n",
    "    cuantitativas_con_nulos = dataframe.select_dtypes(include=['float64', 'int64', 'float', 'int'])\n",
    "    #Separo columnas cualitativas del dataframe\n",
    "    cualitativas_con_nulos = dataframe.select_dtypes(include=['object', 'datetime', 'category'])\n",
    "\n",
    "    #sustitur valores nulos con fill\n",
    "    cualitativas = cualitativas_con_nulos.fillna(method=\"ffill\")\n",
    "     #Unimos el dataframe cuantitativo limpio con el dataframe cualitativo\n",
    "    Datos_sin_nulos = pd.concat([cualitativas, cuantitativas_con_nulos], axis=1)\n",
    "\n",
    "    return(Datos_sin_nulos)"
   ]
  },
  {
   "cell_type": "code",
   "execution_count": 137,
   "metadata": {},
   "outputs": [],
   "source": [
    "def sustitucion_bfill(dataframe):\n",
    "    #Separo columnas cuantitativas del dataframe \n",
    "    cuantitativas_con_nulos = dataframe.select_dtypes(include=['float64', 'int64', 'float', 'int'])\n",
    "    #Separo columnas cualitativas del dataframe\n",
    "    cualitativas_con_nulos = dataframe.select_dtypes(include=['object','datetime','category'])\n",
    "    \n",
    "    #sustitur valores nulos con bfill\n",
    "    cualitativas = cualitativas_con_nulos.fillna(method=\"bfill\")\n",
    "    #Unimos el dataframe cuantitativo limpio con el dataframe cualitativo\n",
    "    Datos_sin_nulos = pd.concat([cualitativas,cuantitativas_con_nulos], axis=1)\n",
    "\n",
    "    return(Datos_sin_nulos)"
   ]
  },
  {
   "cell_type": "code",
   "execution_count": 138,
   "metadata": {},
   "outputs": [],
   "source": [
    "def sustitucion_stringConcreto(dataframe):\n",
    "    #Separo columnas cuantitativas del dataframe \n",
    "    cuantitativas_con_nulos = dataframe.select_dtypes(include=['float64', 'int64', 'float', 'int'])\n",
    "    #Separo columnas cualitativas del dataframe\n",
    "    cualitativas_con_nulos = dataframe.select_dtypes(include=['object','datetime','category'])\n",
    "    \n",
    "    #sustitur valores nulos con string concreto\n",
    "    cualitativas = cualitativas_con_nulos.fillna(\"calendar_date\")\n",
    "    #Unimos el dataframe cuantitativo limpio con el dataframe cualitativo\n",
    "    Datos_sin_nulos = pd.concat([cualitativas,cuantitativas_con_nulos], axis=1)\n",
    "\n",
    "    return(Datos_sin_nulos)"
   ]
  },
  {
   "cell_type": "code",
   "execution_count": 139,
   "metadata": {},
   "outputs": [],
   "source": [
    "def sustitucion_constante(dataframe):\n",
    "    #Separo columnas cuantitativas del dataframe\n",
    "    cuantitativas_con_nulos = dataframe.select_dtypes(include=['float64', 'int64', 'float', 'int'])\n",
    "    #Separo columnas cualitativas del dataframe\n",
    "    cualitativas_con_nulos = dataframe.select_dtypes(include=['object','datetime','category'])\n",
    "    \n",
    "    #sustitur valores nulos con el constante\n",
    "    cualitativas = cualitativas_con_nulos.fillna(\"f\")\n",
    "    #Unimos el dataframe cuantitativo limpio con el dataframe cualitativo\n",
    "    Datos_sin_nulos = pd.concat([cualitativas,cuantitativas_con_nulos], axis=1)\n",
    "\n",
    "    return(Datos_sin_nulos)"
   ]
  },
  {
   "cell_type": "code",
   "execution_count": null,
   "metadata": {},
   "outputs": [],
   "source": [
    "resultado = Cambridge_data[\"reviews_per_month\"]\n",
    "resultado"
   ]
  },
  {
   "cell_type": "code",
   "execution_count": 143,
   "metadata": {},
   "outputs": [
    {
     "data": {
      "text/plain": [
       "('Valores nulos por columna',\n",
       " id                                                 0\n",
       " listing_url                                        0\n",
       " scrape_id                                          0\n",
       " last_scraped                                       0\n",
       " source                                             0\n",
       " name                                               0\n",
       " description                                       14\n",
       " neighborhood_overview                            550\n",
       " picture_url                                        0\n",
       " host_id                                            0\n",
       " host_url                                           0\n",
       " host_name                                          0\n",
       " host_since                                         0\n",
       " host_location                                    251\n",
       " host_about                                       482\n",
       " host_response_time                               121\n",
       " host_response_rate                               121\n",
       " host_acceptance_rate                              82\n",
       " host_is_superhost                                 26\n",
       " host_thumbnail_url                                 0\n",
       " host_picture_url                                   0\n",
       " host_neighbourhood                                37\n",
       " host_listings_count                                0\n",
       " host_total_listings_count                          0\n",
       " host_verifications                                 0\n",
       " host_has_profile_pic                               0\n",
       " host_identity_verified                             0\n",
       " neighbourhood                                    550\n",
       " neighbourhood_cleansed                             0\n",
       " neighbourhood_group_cleansed                    1287\n",
       " latitude                                           0\n",
       " longitude                                          0\n",
       " property_type                                      0\n",
       " room_type                                          0\n",
       " accommodates                                       0\n",
       " bathrooms                                        342\n",
       " bathrooms_text                                     0\n",
       " bedrooms                                          68\n",
       " beds                                             346\n",
       " amenities                                          0\n",
       " price                                            342\n",
       " minimum_nights                                     0\n",
       " maximum_nights                                     0\n",
       " minimum_minimum_nights                             0\n",
       " maximum_minimum_nights                             0\n",
       " minimum_maximum_nights                             0\n",
       " maximum_maximum_nights                             0\n",
       " minimum_nights_avg_ntm                             0\n",
       " maximum_nights_avg_ntm                             0\n",
       " calendar_updated                                1287\n",
       " has_availability                                  28\n",
       " availability_30                                    0\n",
       " availability_60                                    0\n",
       " availability_90                                    0\n",
       " availability_365                                   0\n",
       " calendar_last_scraped                              0\n",
       " number_of_reviews                                  0\n",
       " number_of_reviews_ltm                              0\n",
       " number_of_reviews_l30d                             0\n",
       " first_review                                     317\n",
       " last_review                                      317\n",
       " review_scores_rating                             317\n",
       " review_scores_accuracy                           317\n",
       " review_scores_cleanliness                        317\n",
       " review_scores_checkin                            317\n",
       " review_scores_communication                      317\n",
       " review_scores_location                           317\n",
       " review_scores_value                              317\n",
       " license                                          797\n",
       " instant_bookable                                   0\n",
       " calculated_host_listings_count                     0\n",
       " calculated_host_listings_count_entire_homes        0\n",
       " calculated_host_listings_count_private_rooms       0\n",
       " calculated_host_listings_count_shared_rooms        0\n",
       " reviews_per_month                                317\n",
       " dtype: int64,\n",
       " 'Valores nulos por dataframe',\n",
       " np.int64(9901))"
      ]
     },
     "execution_count": 143,
     "metadata": {},
     "output_type": "execute_result"
    }
   ],
   "source": [
    "cuenta_valores_nulos(Cambridge_data)"
   ]
  },
  {
   "cell_type": "code",
   "execution_count": null,
   "metadata": {},
   "outputs": [],
   "source": [
    "Dataframe_sin_nulos = Cambridge_data.loc[:, Cambridge_data.notna().all()]\n",
    "Dataframe_sin_nulos"
   ]
  },
  {
   "cell_type": "code",
   "execution_count": null,
   "metadata": {},
   "outputs": [],
   "source": [
    "#Remplazar columnas numeric con mediana (\"int\" y \"float\")\n",
    "sustitucion = sustitucion_mediana(Cambridge_data[[\"id\", \"bathrooms\", \"beds\", \"bedrooms\"]])\n",
    "sustitucion"
   ]
  },
  {
   "cell_type": "code",
   "execution_count": 147,
   "metadata": {},
   "outputs": [],
   "source": [
    "#Generar un data frame con todas las columnas y los valores nulos de las columnas reemplazadas\n",
    "Dataframe_excluidos = Cambridge_data.drop(columns=[\"bathrooms\", \"beds\", \"bedrooms\"]) \n",
    "Reemplazar_mediana = pd.merge(sustitucion,Dataframe_excluidos, on=\"id\")\n",
    "Reemplazar_mediana\n",
    "\n",
    "Reemplazar_mediana.to_csv(\"Reemplazar_mediana.csv\")"
   ]
  },
  {
   "cell_type": "code",
   "execution_count": null,
   "metadata": {},
   "outputs": [],
   "source": [
    "#Reemplazar columnas tipo object con ffill\n",
    "Sustitucionf = sustitucion_ffill(Cambridge_data[[\"id\", \"host_name\", \"description\"]])\n",
    "Sustitucionf"
   ]
  },
  {
   "cell_type": "code",
   "execution_count": 149,
   "metadata": {},
   "outputs": [],
   "source": [
    "#Generar un data frame con todas las columnas y los valores nulos\n",
    "Dataframe_excluidos_2 = Cambridge_data.drop(columns=[\"host_name\", \"description\"]) \n",
    "Sustituir_ffill = pd.merge(Sustitucionf,Dataframe_excluidos_2, on=\"id\")\n",
    "\n",
    "Sustituir_ffill.to_csv(\"Sustituir_ffill.csv\")"
   ]
  },
  {
   "cell_type": "code",
   "execution_count": null,
   "metadata": {},
   "outputs": [],
   "source": [
    "Sustituir_ffill"
   ]
  },
  {
   "cell_type": "code",
   "execution_count": null,
   "metadata": {},
   "outputs": [],
   "source": [
    "#Sustituir columnas tipo object con bfill\n",
    "Sustituir_bfill = sustitucion_bfill(Cambridge_data[[\"id\", \"license\"]])\n",
    "Sustituir_bfill"
   ]
  },
  {
   "cell_type": "code",
   "execution_count": 153,
   "metadata": {},
   "outputs": [],
   "source": [
    "#Generar un data frame con todas las columnas y los valores nulos\n",
    "Dataframe_excluido_3 = Cambridge_data.drop(columns=[\"license\"]) \n",
    "Reemplazar_con_bfill = pd.merge(Sustituir_bfill,Dataframe_excluido_3, on=\"id\")\n",
    "\n",
    "Reemplazar_con_bfill.to_csv(\"Sustituir_bfill.csv\")"
   ]
  },
  {
   "cell_type": "code",
   "execution_count": null,
   "metadata": {},
   "outputs": [],
   "source": [
    "#Remplazar columnas tipo object con string concreto\n",
    "Sustituir_constante = sustitucion_constante(Cambridge_data[[\"id\",\"has_availability\", \"host_is_superhost\", \"host_has_profile_pic\", \"host_identity_verified\"]])\n",
    "Sustituir_constante"
   ]
  },
  {
   "cell_type": "code",
   "execution_count": 155,
   "metadata": {},
   "outputs": [],
   "source": [
    "#Generar un data frame con todas las columnas y los valores nulos\n",
    "Dataframe_excluido_4 = Cambridge_data.drop(columns=[\"has_availability\", \"host_is_superhost\", \"host_has_profile_pic\", \"host_identity_verified\"]) \n",
    "Reemplazar_constante = pd.merge(Sustituir_constante,Dataframe_excluido_4, on=\"id\")\n",
    "\n",
    "Reemplazar_constante.to_csv(\"Sustituir_constante.csv\")"
   ]
  },
  {
   "cell_type": "code",
   "execution_count": null,
   "metadata": {},
   "outputs": [],
   "source": [
    "Reemplazar_constante"
   ]
  },
  {
   "cell_type": "code",
   "execution_count": null,
   "metadata": {},
   "outputs": [],
   "source": [
    "Sustitucion_C = sustitucion_constante(Cambridge_data[[\"id\",\"host_listings_count\", \"host_total_listings_count\", \"reviews_per_month\"]])\n",
    "Sustitucion_C"
   ]
  },
  {
   "cell_type": "code",
   "execution_count": 159,
   "metadata": {},
   "outputs": [],
   "source": [
    "# Concatenar de a cuerdo al ID\n",
    "Datos_sin_nulos_1 = pd.merge(Dataframe_sin_nulos, sustitucion, on=\"id\")"
   ]
  },
  {
   "cell_type": "code",
   "execution_count": 160,
   "metadata": {},
   "outputs": [],
   "source": [
    "Datos_sin_nulos_2 = pd.merge(Datos_sin_nulos_1, Sustituir_ffill, on=\"id\")"
   ]
  },
  {
   "cell_type": "code",
   "execution_count": 161,
   "metadata": {},
   "outputs": [],
   "source": [
    "Datos_sin_nulos_3 = pd.merge(Datos_sin_nulos_2, Sustituir_bfill, on=\"id\")"
   ]
  },
  {
   "cell_type": "code",
   "execution_count": 162,
   "metadata": {},
   "outputs": [],
   "source": [
    "Datos_sin_nulos_4 = pd.merge(Datos_sin_nulos_3, Sustituir_constante, on=\"id\")"
   ]
  },
  {
   "cell_type": "code",
   "execution_count": 163,
   "metadata": {},
   "outputs": [],
   "source": [
    "Cambridge_sin_nulos= pd.merge(Datos_sin_nulos_4, Sustitucion_C, on=\"id\")\n",
    "Cambridge_sin_nulos\n",
    "\n",
    "Cambridge_sin_nulos.to_csv(\"Cambridge_sin_nulos.csv\")"
   ]
  },
  {
   "cell_type": "code",
   "execution_count": 164,
   "metadata": {},
   "outputs": [
    {
     "data": {
      "text/plain": [
       "('Valores nulos por columna',\n",
       " id                                                   0\n",
       " listing_url_x                                        0\n",
       " scrape_id_x                                          0\n",
       " last_scraped_x                                       0\n",
       " source_x                                             0\n",
       " name_x                                               0\n",
       " picture_url_x                                        0\n",
       " host_id_x                                            0\n",
       " host_url_x                                           0\n",
       " host_name_x                                          0\n",
       " host_since_x                                         0\n",
       " host_thumbnail_url_x                                 0\n",
       " host_picture_url_x                                   0\n",
       " host_listings_count_x                                0\n",
       " host_total_listings_count_x                          0\n",
       " host_verifications_x                                 0\n",
       " host_has_profile_pic_x                               0\n",
       " host_identity_verified_x                             0\n",
       " neighbourhood_cleansed_x                             0\n",
       " latitude_x                                           0\n",
       " longitude_x                                          0\n",
       " property_type_x                                      0\n",
       " room_type_x                                          0\n",
       " accommodates_x                                       0\n",
       " bathrooms_text_x                                     0\n",
       " amenities_x                                          0\n",
       " minimum_nights_x                                     0\n",
       " maximum_nights_x                                     0\n",
       " minimum_minimum_nights_x                             0\n",
       " maximum_minimum_nights_x                             0\n",
       " minimum_maximum_nights_x                             0\n",
       " maximum_maximum_nights_x                             0\n",
       " minimum_nights_avg_ntm_x                             0\n",
       " maximum_nights_avg_ntm_x                             0\n",
       " availability_30_x                                    0\n",
       " availability_60_x                                    0\n",
       " availability_90_x                                    0\n",
       " availability_365_x                                   0\n",
       " calendar_last_scraped_x                              0\n",
       " number_of_reviews_x                                  0\n",
       " number_of_reviews_ltm_x                              0\n",
       " number_of_reviews_l30d_x                             0\n",
       " instant_bookable_x                                   0\n",
       " calculated_host_listings_count_x                     0\n",
       " calculated_host_listings_count_entire_homes_x        0\n",
       " calculated_host_listings_count_private_rooms_x       0\n",
       " calculated_host_listings_count_shared_rooms_x        0\n",
       " bathrooms_x                                          0\n",
       " beds_x                                               0\n",
       " bedrooms_x                                           0\n",
       " host_name_y                                          0\n",
       " description                                          0\n",
       " listing_url_y                                        0\n",
       " scrape_id_y                                          0\n",
       " last_scraped_y                                       0\n",
       " source_y                                             0\n",
       " name_y                                               0\n",
       " neighborhood_overview                              550\n",
       " picture_url_y                                        0\n",
       " host_id_y                                            0\n",
       " host_url_y                                           0\n",
       " host_since_y                                         0\n",
       " host_location                                      251\n",
       " host_about                                         482\n",
       " host_response_time                                 121\n",
       " host_response_rate                                 121\n",
       " host_acceptance_rate                                82\n",
       " host_is_superhost_x                                 26\n",
       " host_thumbnail_url_y                                 0\n",
       " host_picture_url_y                                   0\n",
       " host_neighbourhood                                  37\n",
       " host_listings_count_y                                0\n",
       " host_total_listings_count_y                          0\n",
       " host_verifications_y                                 0\n",
       " host_has_profile_pic_y                               0\n",
       " host_identity_verified_y                             0\n",
       " neighbourhood                                      550\n",
       " neighbourhood_cleansed_y                             0\n",
       " neighbourhood_group_cleansed                      1287\n",
       " latitude_y                                           0\n",
       " longitude_y                                          0\n",
       " property_type_y                                      0\n",
       " room_type_y                                          0\n",
       " accommodates_y                                       0\n",
       " bathrooms_y                                        342\n",
       " bathrooms_text_y                                     0\n",
       " bedrooms_y                                          68\n",
       " beds_y                                             346\n",
       " amenities_y                                          0\n",
       " price                                              342\n",
       " minimum_nights_y                                     0\n",
       " maximum_nights_y                                     0\n",
       " minimum_minimum_nights_y                             0\n",
       " maximum_minimum_nights_y                             0\n",
       " minimum_maximum_nights_y                             0\n",
       " maximum_maximum_nights_y                             0\n",
       " minimum_nights_avg_ntm_y                             0\n",
       " maximum_nights_avg_ntm_y                             0\n",
       " calendar_updated                                  1287\n",
       " has_availability_x                                  28\n",
       " availability_30_y                                    0\n",
       " availability_60_y                                    0\n",
       " availability_90_y                                    0\n",
       " availability_365_y                                   0\n",
       " calendar_last_scraped_y                              0\n",
       " number_of_reviews_y                                  0\n",
       " number_of_reviews_ltm_y                              0\n",
       " number_of_reviews_l30d_y                             0\n",
       " first_review                                       317\n",
       " last_review                                        317\n",
       " review_scores_rating                               317\n",
       " review_scores_accuracy                             317\n",
       " review_scores_cleanliness                          317\n",
       " review_scores_checkin                              317\n",
       " review_scores_communication                        317\n",
       " review_scores_location                             317\n",
       " review_scores_value                                317\n",
       " license_x                                          797\n",
       " instant_bookable_y                                   0\n",
       " calculated_host_listings_count_y                     0\n",
       " calculated_host_listings_count_entire_homes_y        0\n",
       " calculated_host_listings_count_private_rooms_y       0\n",
       " calculated_host_listings_count_shared_rooms_y        0\n",
       " reviews_per_month_x                                317\n",
       " license_y                                           11\n",
       " has_availability_y                                   0\n",
       " host_is_superhost_y                                  0\n",
       " host_has_profile_pic                                 0\n",
       " host_identity_verified                               0\n",
       " host_listings_count                                  0\n",
       " host_total_listings_count                            0\n",
       " reviews_per_month_y                                317\n",
       " dtype: int64,\n",
       " 'Valores nulos por dataframe',\n",
       " np.int64(10215))"
      ]
     },
     "execution_count": 164,
     "metadata": {},
     "output_type": "execute_result"
    }
   ],
   "source": [
    "cuenta_valores_nulos(Cambridge_sin_nulos)"
   ]
  }
 ],
 "metadata": {
  "kernelspec": {
   "display_name": "Python 3",
   "language": "python",
   "name": "python3"
  },
  "language_info": {
   "codemirror_mode": {
    "name": "ipython",
    "version": 3
   },
   "file_extension": ".py",
   "mimetype": "text/x-python",
   "name": "python",
   "nbconvert_exporter": "python",
   "pygments_lexer": "ipython3",
   "version": "3.13.2"
  }
 },
 "nbformat": 4,
 "nbformat_minor": 2
}
