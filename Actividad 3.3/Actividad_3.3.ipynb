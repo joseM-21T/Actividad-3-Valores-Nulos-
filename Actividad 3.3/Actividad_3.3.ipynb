{
 "cells": [
  {
   "cell_type": "code",
   "execution_count": 34,
   "metadata": {},
   "outputs": [],
   "source": [
    "import pandas as pd\n",
    "import numpy as np\n",
    "import matplotlib.pyplot as plt"
   ]
  },
  {
   "cell_type": "code",
   "execution_count": null,
   "metadata": {},
   "outputs": [],
   "source": [
    "ruta_archivo = input(\"Escribir el nombre del archivo para cargar: \")\n",
    "\n",
    "def dataset(ruta_archivo):\n",
    "    if '.csv' in ruta_archivo:\n",
    "        df = pd.read_csv(ruta_archivo)\n",
    "    elif '.xlsx' in ruta_archivo:\n",
    "        df = pd.read_excel(ruta_archivo)\n",
    "    elif '.json' in ruta_archivo:\n",
    "        df = pd.read_json (ruta_archivo)\n",
    "    elif '.html' in ruta_archivo:\n",
    "        df = pd.read_html(ruta_archivo)\n",
    "    return (df)"
   ]
  },
  {
   "cell_type": "code",
   "execution_count": 38,
   "metadata": {},
   "outputs": [
    {
     "ename": "NameError",
     "evalue": "name 'dataset' is not defined",
     "output_type": "error",
     "traceback": [
      "\u001b[0;31m---------------------------------------------------------------------------\u001b[0m",
      "\u001b[0;31mNameError\u001b[0m                                 Traceback (most recent call last)",
      "Cell \u001b[0;32mIn[38], line 1\u001b[0m\n\u001b[0;32m----> 1\u001b[0m \u001b[43mdataset\u001b[49m(ruta_archivo)\n",
      "\u001b[0;31mNameError\u001b[0m: name 'dataset' is not defined"
     ]
    }
   ],
   "source": [
    "dataset(ruta_archivo)"
   ]
  }
 ],
 "metadata": {
  "kernelspec": {
   "display_name": "Python 3",
   "language": "python",
   "name": "python3"
  },
  "language_info": {
   "codemirror_mode": {
    "name": "ipython",
    "version": 3
   },
   "file_extension": ".py",
   "mimetype": "text/x-python",
   "name": "python",
   "nbconvert_exporter": "python",
   "pygments_lexer": "ipython3",
   "version": "3.13.2"
  }
 },
 "nbformat": 4,
 "nbformat_minor": 2
}
